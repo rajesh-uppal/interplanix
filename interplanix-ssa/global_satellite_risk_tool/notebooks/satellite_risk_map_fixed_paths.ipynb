{
 "cells": [
  {
   "cell_type": "code",
   "execution_count": 1,
   "id": "6de7eba2",
   "metadata": {},
   "outputs": [],
   "source": [
    "\n",
    "import os\n",
    "from datetime import datetime, timezone\n",
    "\n",
    "# ✅ Ensure outputs save relative to project root\n",
    "BASE_DIR = os.path.abspath(os.path.join(os.getcwd(), \"..\"))\n",
    "DOCS_DIR = os.path.join(BASE_DIR, \"docs\")\n",
    "VIS_DIR = os.path.join(BASE_DIR, \"visualizations\", \"risk_maps\")\n",
    "\n",
    "os.makedirs(DOCS_DIR, exist_ok=True)\n",
    "os.makedirs(VIS_DIR, exist_ok=True)\n"
   ]
  },
  {
   "cell_type": "code",
   "execution_count": 2,
   "id": "47615b82",
   "metadata": {},
   "outputs": [
    {
     "name": "stdout",
     "output_type": "stream",
     "text": [
      "✅ TLE data saved to: c:\\Users\\DELL\\Desktop\\Interplanix\\Git\\interplanix-ssa\\global_satellite_risk_tool\\tle_data_20250626.txt\n"
     ]
    }
   ],
   "source": [
    "\n",
    "import requests\n",
    "\n",
    "today_str = datetime.now(timezone.utc).strftime(\"%Y%m%d\")\n",
    "tle_file = os.path.join(BASE_DIR, f\"tle_data_{today_str}.txt\")\n",
    "url = 'https://celestrak.com/NORAD/elements/gp.php?GROUP=active&FORMAT=tle'\n",
    "\n",
    "response = requests.get(url)\n",
    "if response.status_code == 200:\n",
    "    with open(tle_file, 'w', encoding='utf-8') as f:\n",
    "        f.write(response.text)\n",
    "    print(f\"✅ TLE data saved to: {tle_file}\")\n",
    "else:\n",
    "    raise Exception(f\"Failed to download TLE. Status code: {response.status_code}\")\n"
   ]
  },
  {
   "cell_type": "code",
   "execution_count": 3,
   "id": "b98461f8",
   "metadata": {},
   "outputs": [
    {
     "name": "stdout",
     "output_type": "stream",
     "text": [
      "           name   latitude   longitude  altitude_km  dist_from_equator  \\\n",
      "0   CALSPHERE 1  69.427366  -90.260854  1007.261662          69.427366   \n",
      "1   CALSPHERE 2 -38.897187  -87.164887  1066.702490          38.897187   \n",
      "2         LCS 1  14.624789  123.494352  2796.379265          14.624789   \n",
      "3     TEMPSAT 1 -75.564363 -121.607183  1185.020260          75.564363   \n",
      "4  CALSPHERE 4A  61.527157  151.349548  1088.554094          61.527157   \n",
      "\n",
      "  risk_level  \n",
      "0       High  \n",
      "1     Medium  \n",
      "2     Medium  \n",
      "3       High  \n",
      "4       High  \n"
     ]
    }
   ],
   "source": [
    "\n",
    "from skyfield.api import load, wgs84\n",
    "import pandas as pd\n",
    "\n",
    "satellites = load.tle_file(tle_file)\n",
    "ts = load.timescale()\n",
    "now = ts.now()\n",
    "\n",
    "records = []\n",
    "for sat in satellites[:50]:\n",
    "    try:\n",
    "        geocentric = sat.at(now)\n",
    "        subpoint = wgs84.subpoint(geocentric)\n",
    "        lat = subpoint.latitude.degrees\n",
    "        lon = subpoint.longitude.degrees\n",
    "        alt = subpoint.elevation.km\n",
    "        dist = abs(lat)\n",
    "\n",
    "        risk = \"Low\" if dist <= 10 else \"Medium\" if dist <= 50 else \"High\"\n",
    "\n",
    "        records.append({\n",
    "            'name': sat.name,\n",
    "            'latitude': lat,\n",
    "            'longitude': lon,\n",
    "            'altitude_km': alt,\n",
    "            'dist_from_equator': dist,\n",
    "            'risk_level': risk\n",
    "        })\n",
    "    except Exception as e:\n",
    "        print(f\"⚠️ Skipping {sat.name} due to error: {e}\")\n",
    "\n",
    "df = pd.DataFrame(records)\n",
    "print(df.head())\n"
   ]
  },
  {
   "cell_type": "code",
   "execution_count": 4,
   "id": "68a11df5",
   "metadata": {},
   "outputs": [
    {
     "name": "stdout",
     "output_type": "stream",
     "text": [
      "✅ All files saved to project root directories.\n"
     ]
    }
   ],
   "source": [
    "\n",
    "import plotly.graph_objects as go\n",
    "\n",
    "color_map = {'Low': 'green', 'Medium': 'orange', 'High': 'red'}\n",
    "df['color'] = df['risk_level'].map(color_map)\n",
    "\n",
    "fig = go.Figure(go.Scattergeo(\n",
    "    lon = df['longitude'],\n",
    "    lat = df['latitude'],\n",
    "    text = df['name'] + '<br>Risk: ' + df['risk_level'],\n",
    "    mode = 'markers+text',\n",
    "    marker = dict(size=6, color=df['color'], opacity=0.8, line=dict(width=0.5, color='black')),\n",
    "    textposition='top center'\n",
    "))\n",
    "\n",
    "fig.update_geos(showland=True, landcolor=\"LightGray\")\n",
    "fig.update_layout(\n",
    "    title='🛰️ Satellite Ground Track Risk Map',\n",
    "    geo=dict(\n",
    "        projection_type='orthographic',\n",
    "        showcoastlines=True,\n",
    "        showland=True,\n",
    "        showocean=True,\n",
    "        oceancolor='lightblue',\n",
    "        landcolor='beige',\n",
    "        showframe=False,\n",
    "    )\n",
    ")\n",
    "\n",
    "# Save outputs\n",
    "date_str = datetime.now().strftime(\"%Y-%m-%d\")\n",
    "fig.write_html(os.path.join(DOCS_DIR, \"satellite_risk_map_sample.html\"))\n",
    "fig.write_html(os.path.join(VIS_DIR, f\"{date_str}_satellite_risk_map.html\"))\n",
    "df.to_csv(os.path.join(VIS_DIR, f\"{date_str}_risk_data.csv\"), index=False)\n",
    "\n",
    "print(\"✅ All files saved to project root directories.\")\n"
   ]
  }
 ],
 "metadata": {
  "kernelspec": {
   "display_name": "interplanix",
   "language": "python",
   "name": "python3"
  },
  "language_info": {
   "codemirror_mode": {
    "name": "ipython",
    "version": 3
   },
   "file_extension": ".py",
   "mimetype": "text/x-python",
   "name": "python",
   "nbconvert_exporter": "python",
   "pygments_lexer": "ipython3",
   "version": "3.12.11"
  }
 },
 "nbformat": 4,
 "nbformat_minor": 5
}
