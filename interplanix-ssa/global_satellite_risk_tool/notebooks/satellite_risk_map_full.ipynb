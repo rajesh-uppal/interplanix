{
 "cells": [
  {
   "cell_type": "code",
   "execution_count": 22,
   "id": "9d285dbd",
   "metadata": {},
   "outputs": [],
   "source": [
    "#!/usr/bin/env python\n",
    "# coding: utf-8"
   ]
  },
  {
   "cell_type": "code",
   "execution_count": 23,
   "id": "cee6fe60",
   "metadata": {},
   "outputs": [
    {
     "name": "stdout",
     "output_type": "stream",
     "text": [
      "✅ TLE data downloaded and saved to: tle_data_20250626.txt\n"
     ]
    }
   ],
   "source": [
    "import requests\n",
    "from datetime import datetime, timezone\n",
    "\n",
    "# 1️⃣ Use today's UTC date in the filename\n",
    "today_str = datetime.now(timezone.utc).strftime(\"%Y%m%d\")\n",
    "tle_file = f'tle_data_{today_str}.txt'\n",
    "\n",
    "# 2️⃣ CelesTrak's TLE for \"Active Satellites\" (updated and working)\n",
    "url = 'https://celestrak.com/NORAD/elements/gp.php?GROUP=active&FORMAT=tle'\n",
    "\n",
    "# 3️⃣ Fetch and save TLE data\n",
    "response = requests.get(url)\n",
    "if response.status_code == 200:\n",
    "    with open(tle_file, 'w', encoding='utf-8') as f:\n",
    "        f.write(response.text)\n",
    "    print(f\"✅ TLE data downloaded and saved to: {tle_file}\")\n",
    "else:\n",
    "    print(f\"❌ Failed to download TLE data. Status code: {response.status_code}\")"
   ]
  },
  {
   "cell_type": "code",
   "execution_count": 24,
   "id": "f267c46e",
   "metadata": {},
   "outputs": [
    {
     "name": "stdout",
     "output_type": "stream",
     "text": [
      "📦 Loaded 11858 satellites\n",
      "📊 Sample satellite data:\n",
      "           name   latitude   longitude  altitude_km  dist_from_equator\n",
      "0   CALSPHERE 1  31.275885   94.845131   983.754616          31.275885\n",
      "1   CALSPHERE 2  40.032461  -80.977221  1056.224984          40.032461\n",
      "2         LCS 1  32.142316   69.108034  2798.807324          32.142316\n",
      "3     TEMPSAT 1 -27.378914   64.307934  1103.268944          27.378914\n",
      "4  CALSPHERE 4A -17.145499  156.992796  1093.505692          17.145499\n"
     ]
    }
   ],
   "source": [
    "#Load saved TLE file and compute satellite geolocations\n",
    "\n",
    "from skyfield.api import load, wgs84\n",
    "from datetime import datetime, timezone\n",
    "import pandas as pd\n",
    "import os\n",
    "\n",
    "# 1️⃣ Generate today's TLE file name\n",
    "today_str = datetime.now(timezone.utc).strftime(\"%Y%m%d\")\n",
    "tle_file = f'tle_data_{today_str}.txt'\n",
    "\n",
    "# 2️⃣ Check if the TLE file exists\n",
    "if not os.path.exists(tle_file):\n",
    "    raise FileNotFoundError(f\"TLE file {tle_file} not found. Please run Step 1 first.\")\n",
    "\n",
    "# 3️⃣ Load satellites from saved TLE file\n",
    "satellites = load.tle_file(tle_file)\n",
    "print(f\"📦 Loaded {len(satellites)} satellites\")\n",
    "\n",
    "# 4️⃣ Get current UTC time as Skyfield time object\n",
    "ts = load.timescale()\n",
    "now = ts.now()\n",
    "\n",
    "# 5️⃣ Compute ground subpoints for first N satellites\n",
    "records = []\n",
    "for sat in satellites[:20]:\n",
    "    try:\n",
    "        geocentric = sat.at(now)\n",
    "        subpoint = wgs84.subpoint(geocentric)\n",
    "\n",
    "        records.append({\n",
    "            'name': sat.name,\n",
    "            'latitude': subpoint.latitude.degrees,\n",
    "            'longitude': subpoint.longitude.degrees,\n",
    "            'altitude_km': subpoint.elevation.km,\n",
    "            'dist_from_equator': abs(subpoint.latitude.degrees)\n",
    "        })\n",
    "    except Exception as e:\n",
    "        print(f\"⚠️ Skipping {sat.name} due to error: {e}\")\n",
    "\n",
    "# ✅ Now create DataFrame *after* loop, not inside try/except\n",
    "df = pd.DataFrame(records)\n",
    "print(\"📊 Sample satellite data:\")\n",
    "print(df.head())"
   ]
  },
  {
   "cell_type": "code",
   "execution_count": 25,
   "id": "943b6e18",
   "metadata": {},
   "outputs": [
    {
     "name": "stdout",
     "output_type": "stream",
     "text": [
      "📊 Sample satellite features:\n",
      "           name   latitude   longitude  altitude_km  dist_from_equator\n",
      "0   CALSPHERE 1  31.277858   94.844977   983.755551          31.277858\n",
      "1   CALSPHERE 2  40.030517  -80.977378  1056.224298          40.030517\n",
      "2         LCS 1  32.142246   69.109556  2798.807443          32.142246\n",
      "3     TEMPSAT 1 -27.380846   64.307792  1103.270807          27.380846\n",
      "4  CALSPHERE 4A -17.143562  156.992656  1093.503805          17.143562\n"
     ]
    }
   ],
   "source": [
    "# Compute Satellite Position Features (Lat, Lon, Altitude)\n",
    "\n",
    "from skyfield.api import wgs84\n",
    "from datetime import datetime, timezone\n",
    "\n",
    "def compute_satellite_features(satellites, ts):\n",
    "    \"\"\"\n",
    "    Computes geodetic features (lat, lon, altitude) for each satellite.\n",
    "    Parameters:\n",
    "        satellites: list of skyfield EarthSatellite objects\n",
    "        ts: Skyfield TimeScale object\n",
    "    Returns:\n",
    "        DataFrame with satellite name, latitude, longitude, altitude_km, distance from equator\n",
    "    \"\"\"\n",
    "    now = ts.now()  # ✅ Must use Skyfield Time object\n",
    "    data = []\n",
    "\n",
    "    for sat in satellites:\n",
    "        try:\n",
    "            geocentric = sat.at(now)  # This requires a Time object\n",
    "            subpoint = wgs84.subpoint(geocentric)\n",
    "            lat = subpoint.latitude.degrees\n",
    "            lon = subpoint.longitude.degrees\n",
    "            alt = subpoint.elevation.km\n",
    "            dist_from_equator = abs(lat)\n",
    "\n",
    "            data.append({\n",
    "                'name': sat.name,\n",
    "                'latitude': lat,\n",
    "                'longitude': lon,\n",
    "                'altitude_km': alt,\n",
    "                'dist_from_equator': dist_from_equator\n",
    "            })\n",
    "        except Exception as e:\n",
    "            print(f\"⚠️ Failed for {sat.name}: {e}\")\n",
    "\n",
    "    df = pd.DataFrame(data)\n",
    "    return df\n",
    "\n",
    "# ✅ Usage Example:\n",
    "df_features = compute_satellite_features(satellites, ts)\n",
    "print(\"📊 Sample satellite features:\")\n",
    "print(df_features.head())"
   ]
  },
  {
   "cell_type": "code",
   "execution_count": 26,
   "id": "2a605bc2",
   "metadata": {},
   "outputs": [
    {
     "name": "stdout",
     "output_type": "stream",
     "text": [
      "🛰️ Satellite features with risk levels:\n",
      "           name   latitude   longitude  altitude_km risk_level\n",
      "0   CALSPHERE 1  31.277858   94.844977   983.755551     Medium\n",
      "1   CALSPHERE 2  40.030517  -80.977378  1056.224298     Medium\n",
      "2         LCS 1  32.142246   69.109556  2798.807443     Medium\n",
      "3     TEMPSAT 1 -27.380846   64.307792  1103.270807     Medium\n",
      "4  CALSPHERE 4A -17.143562  156.992656  1093.503805     Medium\n"
     ]
    }
   ],
   "source": [
    "#Classify Risk Levels Based on Satellite Features\n",
    "\n",
    "def classify_risk_levels(df):\n",
    "    \"\"\"\n",
    "    Adds a 'risk_level' column based on distance from equator.\n",
    "    Thresholds:\n",
    "        - Low: <= 10 degrees\n",
    "        - Medium: 10–50 degrees\n",
    "        - High: > 50 degrees\n",
    "    Parameters:\n",
    "        df: DataFrame with satellite features (including 'dist_from_equator')\n",
    "    Returns:\n",
    "        Updated DataFrame with a new 'risk_level' column\n",
    "    \"\"\"\n",
    "    def risk_category(dist):\n",
    "        if dist <= 10:\n",
    "            return 'Low'\n",
    "        elif dist <= 50:\n",
    "            return 'Medium'\n",
    "        else:\n",
    "            return 'High'\n",
    "\n",
    "    df['risk_level'] = df['dist_from_equator'].apply(risk_category)\n",
    "    return df\n",
    "\n",
    "# ✅ Apply risk classification to satellite features\n",
    "df_features = classify_risk_levels(df_features)\n",
    "\n",
    "print(\"🛰️ Satellite features with risk levels:\")\n",
    "print(df_features[['name', 'latitude', 'longitude', 'altitude_km', 'risk_level']].head())\n",
    "\n",
    "\n",
    "# ### 🚨 Risk Level Classification Based on Distance from Equator\n",
    "# \n",
    "# This section assigns a `risk_level` to each satellite using its distance from the equator (in degrees of latitude). This is used as a proxy to assess potential conjunction risk or exposure to debris and traffic.\n",
    "# \n",
    "# **Thresholds:**\n",
    "# - **Low Risk** (≤ 10°): Equatorial or near-equatorial orbits. Lower orbital traffic.\n",
    "# - **Medium Risk** (10°–50°): Moderately inclined orbits. Moderate intersection probability.\n",
    "# - **High Risk** (> 50°): Polar or sun-synchronous orbits. Highest chance of orbital crossings.\n",
    "# \n",
    "# > 🔍 Note: This is a basic heuristic. It can later be improved by integrating actual debris maps, relative velocities, or orbital crossings.\n",
    "#"
   ]
  },
  {
   "cell_type": "code",
   "execution_count": 27,
   "id": "c4d083c1",
   "metadata": {},
   "outputs": [
    {
     "data": {
      "application/vnd.plotly.v1+json": {
       "config": {
        "plotlyServerURL": "https://plot.ly"
       },
       "data": [
        {
         "lat": {
          "bdata": "1gqkrcDARMCkGGc2AXcWQCUJnE/WPj7An8VqcLKtM0Cc1NIfG9hCwFK+4p0tGT/AaMlBNsxIHEDIdBJ+QFE/wIhX5uPdKztAYPBXfIh1R0Clpz/AuV5FwMvIr+dVPUhAoxAKHFSsvz+hLBqLx9wmQAMh8Jl68URAWXVB1NsiNEC9kXO2h0RCwIPvC840GDjAs9GG1t3POcD+JLwfoyFKwHL4fDUb4kbAHfGeU817RcBks1J9Fq1CQOtG/3in8BrAt3ApkBOjQ0BwDn0fBINJwKlrQ06AK7I/bD8W7ATHREAva81t7J1HwNYpWr9lUUFA22D4yO/8TECSrl/A2RZUwGj0fsmJyEnAombKLXV1K0AX3smUVodIwDRim62n2jvApJOpd/aAUUAkRFgu7kk7wOB5FsHQbkXAcLKjKLhVTkBU5/XiUdVIwLbFu9dvdUbA9QNblRM7QEAm+8jZZU9KwEqdohZzVkVACeCPEcz2RECZpC93THzqv1LCtSFGxDZAU8cZG+wVOUD3EgGCfhlFQA==",
          "dtype": "f8"
         },
         "lon": {
          "bdata": "DdX7hvPlR0DwhG0h0s9kQE57ikAtIzfAA5PRjOqcV8AsiRgl4ylewI1DjEZ2zVvAfcN40iDbVcCAJFF4EaBLQIsc71ncJVBAFHTryU4jY8CGtpEjDmtbwFuNR6Gb5mDAm8QVYJwaY0Co9nX31yEswPvvOCT93VdA5WGvW+0jXkCEJi8qAZJawFy9UOAo7jDAQMsJTzAZMEBcKAhKLiJIQB6aIpRiNmZAlmNq77/5ZMBf9zNsC5AdwB65FuVSHWFAG707C0U9KMA2UNf92O5GwHiiohsPfFJAj46hyRggNkDen/S3aPdkQJO44wsnamNA8XAHn3ANWECK9HXnRfNIQJKLMgIYWwbAvKfmXJh3KMB78rjuwzVTwIQM7Tat/WRArxxMEN18UMB5z8h1ENBSwOQGrl7DF1RAEdyeHPEcVcDHX/sQEOU7QLy6Vy5mGUXAlIsW1/WwWMAzX8SAB5lJwHd8fjWDf2FA6Q9ikT+aQsDJhkrYPFAzQBnoVhK2YmDApC0I2yI4ZcAaZMEiLTBeQA==",
          "dtype": "f8"
         },
         "marker": {
          "color": [
           "orange",
           "green",
           "orange",
           "orange",
           "orange",
           "orange",
           "green",
           "orange",
           "orange",
           "orange",
           "orange",
           "orange",
           "green",
           "orange",
           "orange",
           "orange",
           "orange",
           "orange",
           "orange",
           "red",
           "orange",
           "orange",
           "orange",
           "green",
           "orange",
           "red",
           "green",
           "orange",
           "orange",
           "orange",
           "red",
           "red",
           "red",
           "orange",
           "orange",
           "orange",
           "red",
           "orange",
           "orange",
           "red",
           "orange",
           "orange",
           "orange",
           "red",
           "orange",
           "orange",
           "green",
           "orange",
           "orange",
           "orange"
          ],
          "line": {
           "color": "black",
           "width": 0.5
          },
          "opacity": 0.8,
          "size": 6
         },
         "mode": "markers+text",
         "text": [
          "STARLINK-6256<br>Risk: Medium",
          "SORCE<br>Risk: Low",
          "STARLINK-30759<br>Risk: Medium",
          "VIZARD-METEO (RS38S)<br>Risk: Medium",
          "STARLINK-2474<br>Risk: Medium",
          "STARLINK-3177<br>Risk: Medium",
          "ONEWEB-0121<br>Risk: Low",
          "STARLINK-3606<br>Risk: Medium",
          "STARLINK-3386<br>Risk: Medium",
          "WSF-M<br>Risk: Medium",
          "STARLINK-11708 [DTC]<br>Risk: Medium",
          "ONEWEB-0649<br>Risk: Medium",
          "TJS-17<br>Risk: Low",
          "STARLINK-2036<br>Risk: Medium",
          "CLARITY-1<br>Risk: Medium",
          "STARLINK-2622<br>Risk: Medium",
          "STARLINK-4050<br>Risk: Medium",
          "STARLINK-30816<br>Risk: Medium",
          "STARLINK-4753<br>Risk: Medium",
          "STARLINK-5433<br>Risk: High",
          "STARLINK-4507<br>Risk: Medium",
          "STARLINK-31198<br>Risk: Medium",
          "STARLINK-5556<br>Risk: Medium",
          "STARLINK-6066<br>Risk: Low",
          "RADIO ROSTO (RS-15)<br>Risk: Medium",
          "STARLINK-30272<br>Risk: High",
          "GSAT-11<br>Risk: Low",
          "STARLINK-5672<br>Risk: Medium",
          "STARLINK-31454<br>Risk: Medium",
          "STARLINK-4443<br>Risk: Medium",
          "ONEWEB-0143<br>Risk: High",
          "ONEWEB-0328<br>Risk: High",
          "STARLINK-4787<br>Risk: High",
          "STARLINK-4655<br>Risk: Medium",
          "STARLINK-3261<br>Risk: Medium",
          "STARLINK-2388<br>Risk: Medium",
          "STARLINK-5855<br>Risk: High",
          "STARLINK-3611<br>Risk: Medium",
          "STARLINK-31905<br>Risk: Medium",
          "STARLINK-34034<br>Risk: High",
          "STARLINK-2594<br>Risk: Medium",
          "STARLINK-31330<br>Risk: Medium",
          "STARLINK-2045<br>Risk: Medium",
          "STARLINK-32235<br>Risk: High",
          "STARLINK-5241<br>Risk: Medium",
          "STARLINK-33770<br>Risk: Medium",
          "STARLINK-32455<br>Risk: Low",
          "STARLINK-30435<br>Risk: Medium",
          "STARLINK-30908<br>Risk: Medium",
          "STARLINK-5519<br>Risk: Medium"
         ],
         "textfont": {
          "color": "black",
          "size": 8
         },
         "textposition": "top center",
         "type": "scattergeo"
        }
       ],
       "layout": {
        "geo": {
         "landcolor": "beige",
         "oceancolor": "lightblue",
         "projection": {
          "type": "orthographic"
         },
         "showcoastlines": true,
         "showframe": false,
         "showland": true,
         "showocean": true
        },
        "template": {
         "data": {
          "bar": [
           {
            "error_x": {
             "color": "#2a3f5f"
            },
            "error_y": {
             "color": "#2a3f5f"
            },
            "marker": {
             "line": {
              "color": "#E5ECF6",
              "width": 0.5
             },
             "pattern": {
              "fillmode": "overlay",
              "size": 10,
              "solidity": 0.2
             }
            },
            "type": "bar"
           }
          ],
          "barpolar": [
           {
            "marker": {
             "line": {
              "color": "#E5ECF6",
              "width": 0.5
             },
             "pattern": {
              "fillmode": "overlay",
              "size": 10,
              "solidity": 0.2
             }
            },
            "type": "barpolar"
           }
          ],
          "carpet": [
           {
            "aaxis": {
             "endlinecolor": "#2a3f5f",
             "gridcolor": "white",
             "linecolor": "white",
             "minorgridcolor": "white",
             "startlinecolor": "#2a3f5f"
            },
            "baxis": {
             "endlinecolor": "#2a3f5f",
             "gridcolor": "white",
             "linecolor": "white",
             "minorgridcolor": "white",
             "startlinecolor": "#2a3f5f"
            },
            "type": "carpet"
           }
          ],
          "choropleth": [
           {
            "colorbar": {
             "outlinewidth": 0,
             "ticks": ""
            },
            "type": "choropleth"
           }
          ],
          "contour": [
           {
            "colorbar": {
             "outlinewidth": 0,
             "ticks": ""
            },
            "colorscale": [
             [
              0,
              "#0d0887"
             ],
             [
              0.1111111111111111,
              "#46039f"
             ],
             [
              0.2222222222222222,
              "#7201a8"
             ],
             [
              0.3333333333333333,
              "#9c179e"
             ],
             [
              0.4444444444444444,
              "#bd3786"
             ],
             [
              0.5555555555555556,
              "#d8576b"
             ],
             [
              0.6666666666666666,
              "#ed7953"
             ],
             [
              0.7777777777777778,
              "#fb9f3a"
             ],
             [
              0.8888888888888888,
              "#fdca26"
             ],
             [
              1,
              "#f0f921"
             ]
            ],
            "type": "contour"
           }
          ],
          "contourcarpet": [
           {
            "colorbar": {
             "outlinewidth": 0,
             "ticks": ""
            },
            "type": "contourcarpet"
           }
          ],
          "heatmap": [
           {
            "colorbar": {
             "outlinewidth": 0,
             "ticks": ""
            },
            "colorscale": [
             [
              0,
              "#0d0887"
             ],
             [
              0.1111111111111111,
              "#46039f"
             ],
             [
              0.2222222222222222,
              "#7201a8"
             ],
             [
              0.3333333333333333,
              "#9c179e"
             ],
             [
              0.4444444444444444,
              "#bd3786"
             ],
             [
              0.5555555555555556,
              "#d8576b"
             ],
             [
              0.6666666666666666,
              "#ed7953"
             ],
             [
              0.7777777777777778,
              "#fb9f3a"
             ],
             [
              0.8888888888888888,
              "#fdca26"
             ],
             [
              1,
              "#f0f921"
             ]
            ],
            "type": "heatmap"
           }
          ],
          "histogram": [
           {
            "marker": {
             "pattern": {
              "fillmode": "overlay",
              "size": 10,
              "solidity": 0.2
             }
            },
            "type": "histogram"
           }
          ],
          "histogram2d": [
           {
            "colorbar": {
             "outlinewidth": 0,
             "ticks": ""
            },
            "colorscale": [
             [
              0,
              "#0d0887"
             ],
             [
              0.1111111111111111,
              "#46039f"
             ],
             [
              0.2222222222222222,
              "#7201a8"
             ],
             [
              0.3333333333333333,
              "#9c179e"
             ],
             [
              0.4444444444444444,
              "#bd3786"
             ],
             [
              0.5555555555555556,
              "#d8576b"
             ],
             [
              0.6666666666666666,
              "#ed7953"
             ],
             [
              0.7777777777777778,
              "#fb9f3a"
             ],
             [
              0.8888888888888888,
              "#fdca26"
             ],
             [
              1,
              "#f0f921"
             ]
            ],
            "type": "histogram2d"
           }
          ],
          "histogram2dcontour": [
           {
            "colorbar": {
             "outlinewidth": 0,
             "ticks": ""
            },
            "colorscale": [
             [
              0,
              "#0d0887"
             ],
             [
              0.1111111111111111,
              "#46039f"
             ],
             [
              0.2222222222222222,
              "#7201a8"
             ],
             [
              0.3333333333333333,
              "#9c179e"
             ],
             [
              0.4444444444444444,
              "#bd3786"
             ],
             [
              0.5555555555555556,
              "#d8576b"
             ],
             [
              0.6666666666666666,
              "#ed7953"
             ],
             [
              0.7777777777777778,
              "#fb9f3a"
             ],
             [
              0.8888888888888888,
              "#fdca26"
             ],
             [
              1,
              "#f0f921"
             ]
            ],
            "type": "histogram2dcontour"
           }
          ],
          "mesh3d": [
           {
            "colorbar": {
             "outlinewidth": 0,
             "ticks": ""
            },
            "type": "mesh3d"
           }
          ],
          "parcoords": [
           {
            "line": {
             "colorbar": {
              "outlinewidth": 0,
              "ticks": ""
             }
            },
            "type": "parcoords"
           }
          ],
          "pie": [
           {
            "automargin": true,
            "type": "pie"
           }
          ],
          "scatter": [
           {
            "fillpattern": {
             "fillmode": "overlay",
             "size": 10,
             "solidity": 0.2
            },
            "type": "scatter"
           }
          ],
          "scatter3d": [
           {
            "line": {
             "colorbar": {
              "outlinewidth": 0,
              "ticks": ""
             }
            },
            "marker": {
             "colorbar": {
              "outlinewidth": 0,
              "ticks": ""
             }
            },
            "type": "scatter3d"
           }
          ],
          "scattercarpet": [
           {
            "marker": {
             "colorbar": {
              "outlinewidth": 0,
              "ticks": ""
             }
            },
            "type": "scattercarpet"
           }
          ],
          "scattergeo": [
           {
            "marker": {
             "colorbar": {
              "outlinewidth": 0,
              "ticks": ""
             }
            },
            "type": "scattergeo"
           }
          ],
          "scattergl": [
           {
            "marker": {
             "colorbar": {
              "outlinewidth": 0,
              "ticks": ""
             }
            },
            "type": "scattergl"
           }
          ],
          "scattermap": [
           {
            "marker": {
             "colorbar": {
              "outlinewidth": 0,
              "ticks": ""
             }
            },
            "type": "scattermap"
           }
          ],
          "scattermapbox": [
           {
            "marker": {
             "colorbar": {
              "outlinewidth": 0,
              "ticks": ""
             }
            },
            "type": "scattermapbox"
           }
          ],
          "scatterpolar": [
           {
            "marker": {
             "colorbar": {
              "outlinewidth": 0,
              "ticks": ""
             }
            },
            "type": "scatterpolar"
           }
          ],
          "scatterpolargl": [
           {
            "marker": {
             "colorbar": {
              "outlinewidth": 0,
              "ticks": ""
             }
            },
            "type": "scatterpolargl"
           }
          ],
          "scatterternary": [
           {
            "marker": {
             "colorbar": {
              "outlinewidth": 0,
              "ticks": ""
             }
            },
            "type": "scatterternary"
           }
          ],
          "surface": [
           {
            "colorbar": {
             "outlinewidth": 0,
             "ticks": ""
            },
            "colorscale": [
             [
              0,
              "#0d0887"
             ],
             [
              0.1111111111111111,
              "#46039f"
             ],
             [
              0.2222222222222222,
              "#7201a8"
             ],
             [
              0.3333333333333333,
              "#9c179e"
             ],
             [
              0.4444444444444444,
              "#bd3786"
             ],
             [
              0.5555555555555556,
              "#d8576b"
             ],
             [
              0.6666666666666666,
              "#ed7953"
             ],
             [
              0.7777777777777778,
              "#fb9f3a"
             ],
             [
              0.8888888888888888,
              "#fdca26"
             ],
             [
              1,
              "#f0f921"
             ]
            ],
            "type": "surface"
           }
          ],
          "table": [
           {
            "cells": {
             "fill": {
              "color": "#EBF0F8"
             },
             "line": {
              "color": "white"
             }
            },
            "header": {
             "fill": {
              "color": "#C8D4E3"
             },
             "line": {
              "color": "white"
             }
            },
            "type": "table"
           }
          ]
         },
         "layout": {
          "annotationdefaults": {
           "arrowcolor": "#2a3f5f",
           "arrowhead": 0,
           "arrowwidth": 1
          },
          "autotypenumbers": "strict",
          "coloraxis": {
           "colorbar": {
            "outlinewidth": 0,
            "ticks": ""
           }
          },
          "colorscale": {
           "diverging": [
            [
             0,
             "#8e0152"
            ],
            [
             0.1,
             "#c51b7d"
            ],
            [
             0.2,
             "#de77ae"
            ],
            [
             0.3,
             "#f1b6da"
            ],
            [
             0.4,
             "#fde0ef"
            ],
            [
             0.5,
             "#f7f7f7"
            ],
            [
             0.6,
             "#e6f5d0"
            ],
            [
             0.7,
             "#b8e186"
            ],
            [
             0.8,
             "#7fbc41"
            ],
            [
             0.9,
             "#4d9221"
            ],
            [
             1,
             "#276419"
            ]
           ],
           "sequential": [
            [
             0,
             "#0d0887"
            ],
            [
             0.1111111111111111,
             "#46039f"
            ],
            [
             0.2222222222222222,
             "#7201a8"
            ],
            [
             0.3333333333333333,
             "#9c179e"
            ],
            [
             0.4444444444444444,
             "#bd3786"
            ],
            [
             0.5555555555555556,
             "#d8576b"
            ],
            [
             0.6666666666666666,
             "#ed7953"
            ],
            [
             0.7777777777777778,
             "#fb9f3a"
            ],
            [
             0.8888888888888888,
             "#fdca26"
            ],
            [
             1,
             "#f0f921"
            ]
           ],
           "sequentialminus": [
            [
             0,
             "#0d0887"
            ],
            [
             0.1111111111111111,
             "#46039f"
            ],
            [
             0.2222222222222222,
             "#7201a8"
            ],
            [
             0.3333333333333333,
             "#9c179e"
            ],
            [
             0.4444444444444444,
             "#bd3786"
            ],
            [
             0.5555555555555556,
             "#d8576b"
            ],
            [
             0.6666666666666666,
             "#ed7953"
            ],
            [
             0.7777777777777778,
             "#fb9f3a"
            ],
            [
             0.8888888888888888,
             "#fdca26"
            ],
            [
             1,
             "#f0f921"
            ]
           ]
          },
          "colorway": [
           "#636efa",
           "#EF553B",
           "#00cc96",
           "#ab63fa",
           "#FFA15A",
           "#19d3f3",
           "#FF6692",
           "#B6E880",
           "#FF97FF",
           "#FECB52"
          ],
          "font": {
           "color": "#2a3f5f"
          },
          "geo": {
           "bgcolor": "white",
           "lakecolor": "white",
           "landcolor": "#E5ECF6",
           "showlakes": true,
           "showland": true,
           "subunitcolor": "white"
          },
          "hoverlabel": {
           "align": "left"
          },
          "hovermode": "closest",
          "mapbox": {
           "style": "light"
          },
          "paper_bgcolor": "white",
          "plot_bgcolor": "#E5ECF6",
          "polar": {
           "angularaxis": {
            "gridcolor": "white",
            "linecolor": "white",
            "ticks": ""
           },
           "bgcolor": "#E5ECF6",
           "radialaxis": {
            "gridcolor": "white",
            "linecolor": "white",
            "ticks": ""
           }
          },
          "scene": {
           "xaxis": {
            "backgroundcolor": "#E5ECF6",
            "gridcolor": "white",
            "gridwidth": 2,
            "linecolor": "white",
            "showbackground": true,
            "ticks": "",
            "zerolinecolor": "white"
           },
           "yaxis": {
            "backgroundcolor": "#E5ECF6",
            "gridcolor": "white",
            "gridwidth": 2,
            "linecolor": "white",
            "showbackground": true,
            "ticks": "",
            "zerolinecolor": "white"
           },
           "zaxis": {
            "backgroundcolor": "#E5ECF6",
            "gridcolor": "white",
            "gridwidth": 2,
            "linecolor": "white",
            "showbackground": true,
            "ticks": "",
            "zerolinecolor": "white"
           }
          },
          "shapedefaults": {
           "line": {
            "color": "#2a3f5f"
           }
          },
          "ternary": {
           "aaxis": {
            "gridcolor": "white",
            "linecolor": "white",
            "ticks": ""
           },
           "baxis": {
            "gridcolor": "white",
            "linecolor": "white",
            "ticks": ""
           },
           "bgcolor": "#E5ECF6",
           "caxis": {
            "gridcolor": "white",
            "linecolor": "white",
            "ticks": ""
           }
          },
          "title": {
           "x": 0.05
          },
          "xaxis": {
           "automargin": true,
           "gridcolor": "white",
           "linecolor": "white",
           "ticks": "",
           "title": {
            "standoff": 15
           },
           "zerolinecolor": "white",
           "zerolinewidth": 2
          },
          "yaxis": {
           "automargin": true,
           "gridcolor": "white",
           "linecolor": "white",
           "ticks": "",
           "title": {
            "standoff": 15
           },
           "zerolinecolor": "white",
           "zerolinewidth": 2
          }
         }
        },
        "title": {
         "text": "🛰️ Satellite Ground Track Risk Map"
        }
       }
      }
     },
     "metadata": {},
     "output_type": "display_data"
    }
   ],
   "source": [
    "# Plot Satellite Subpoints and Risk Levels Using Plotly\n",
    "import plotly.io as pio\n",
    "pio.renderers.default = 'vscode'\n",
    "\n",
    "import pandas as pd\n",
    "\n",
    "\n",
    "# 📍 Function to plot the satellite risk map\n",
    "def plot_satellite_risk_map(df, sample_size=50):\n",
    "    import plotly.graph_objects as go\n",
    "\n",
    "    # Randomly sample satellites to avoid clutter\n",
    "    df_sampled = df.sample(n=min(sample_size, len(df)))\n",
    "\n",
    "    # Assign colors based on risk level\n",
    "    color_map = {'Low': 'green', 'Medium': 'orange', 'High': 'red'}\n",
    "    df_sampled['color'] = df_sampled['risk_level'].map(color_map)\n",
    "\n",
    "    fig = go.Figure(\n",
    "        go.Scattergeo(\n",
    "            lon = df_sampled['longitude'],\n",
    "            lat = df_sampled['latitude'],\n",
    "            text = df_sampled['name'] + '<br>Risk: ' + df_sampled['risk_level'],\n",
    "            mode = 'markers+text',\n",
    "            marker = dict(\n",
    "                size = 6,\n",
    "                color = df_sampled['color'],\n",
    "                line = dict(width=0.5, color='black'),\n",
    "                opacity = 0.8\n",
    "            ),\n",
    "            textfont = dict(\n",
    "                size = 8,\n",
    "                color = 'black'\n",
    "            ),\n",
    "            textposition = 'top center'\n",
    "        )\n",
    "    )\n",
    "\n",
    "    fig.update_geos(showland=True, landcolor=\"LightGray\")\n",
    "    fig.update_layout(\n",
    "        title='🛰️ Satellite Ground Track Risk Map',\n",
    "        geo=dict(\n",
    "            projection_type='orthographic',\n",
    "            showcoastlines=True,\n",
    "            showland=True,\n",
    "            showocean=True,\n",
    "            oceancolor='lightblue',\n",
    "            landcolor='beige',\n",
    "            showframe=False,\n",
    "        )\n",
    "    )\n",
    "\n",
    "    return fig  # ✅ important\n",
    "\n",
    "fig = plot_satellite_risk_map(df_features, sample_size=50)\n",
    "# Save the HTML to docs\n",
    "save_path = os.path.join(os.getcwd(), \"docs\", \"satellite_risk_map_sample.html\")\n",
    "fig.write_html(save_path)\n",
    "\n",
    "fig.show()"
   ]
  },
  {
   "cell_type": "code",
   "execution_count": 28,
   "id": "3cf84930",
   "metadata": {},
   "outputs": [
    {
     "name": "stdout",
     "output_type": "stream",
     "text": [
      "✅ Saved: visualizations/risk_maps/2025-06-26_satellite_risk_map.html\n",
      "✅ Saved: visualizations/risk_maps/2025-06-26_risk_data.csv\n"
     ]
    }
   ],
   "source": [
    "import os\n",
    "from datetime import datetime\n",
    "\n",
    "# ✅ Ensure folder exists\n",
    "output_dir = \"visualizations/risk_maps\"\n",
    "os.makedirs(output_dir, exist_ok=True)\n",
    "\n",
    "# 📅 Create dated filenames\n",
    "today_str = datetime.today().strftime(\"%Y-%m-%d\")\n",
    "html_path = f\"{output_dir}/{today_str}_satellite_risk_map.html\"\n",
    "csv_path = f\"{output_dir}/{today_str}_risk_data.csv\"\n",
    "\n",
    "# ✅ Save files\n",
    "fig.write_html(html_path)\n",
    "df_features.to_csv(csv_path, index=False)\n",
    "\n",
    "print(f\"✅ Saved: {html_path}\")\n",
    "print(f\"✅ Saved: {csv_path}\")"
   ]
  }
 ],
 "metadata": {
  "kernelspec": {
   "display_name": "interplanix",
   "language": "python",
   "name": "python3"
  },
  "language": "python",
  "language_info": {
   "codemirror_mode": {
    "name": "ipython",
    "version": 3
   },
   "file_extension": ".py",
   "mimetype": "text/x-python",
   "name": "python",
   "nbconvert_exporter": "python",
   "pygments_lexer": "ipython3",
   "version": "3.12.11"
  }
 },
 "nbformat": 4,
 "nbformat_minor": 5
}
