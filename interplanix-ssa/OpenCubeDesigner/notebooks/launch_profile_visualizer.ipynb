{
 "cells": [
  {
   "cell_type": "markdown",
   "metadata": {},
   "source": [
    "# 🛰️ Orbit Ground Track Visualization\n",
    "This notebook loads orbital position data and plots the satellite's ground track." 
   ]
  },
  {
   "cell_type": "code",
   "execution_count": null,
   "metadata": {},
   "outputs": [],
   "source": [
    "import pandas as pd\n",
    "import matplotlib.pyplot as plt\n",
    "# Sample orbit data (simulate or extract from GMAT output)\n",
    "data = {\n",
    "    'Time': range(100),\n",
    "    'Latitude': [10 + i*0.1 for i in range(100)],\n",
    "    'Longitude': [i for i in range(100)]\n",
    "}\n",
    "df = pd.DataFrame(data)\n",
    "# Plot ground track\n",
    "plt.plot(df['Longitude'], df['Latitude'])\n",
    "plt.title('CubeSat Ground Track')\n",
    "plt.xlabel('Longitude')\n",
    "plt.ylabel('Latitude')\n",
    "plt.grid(True)\n",
    "plt.show()"
   ]
  }
 ],
 "metadata": {
  "kernelspec": {
   "display_name": "Python 3",
   "language": "python",
   "name": "python3"
  },
  "language_info": {
   "name": "python",
   "version": ""
  }
 },
 "nbformat": 4,
 "nbformat_minor": 2
}
