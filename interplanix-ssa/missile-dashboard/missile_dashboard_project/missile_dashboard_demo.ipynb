{
 "cells": [
  {
   "cell_type": "code",
   "execution_count": null,
   "id": "de55e271",
   "metadata": {},
   "outputs": [],
   "source": [
    "# 📦 Standard library imports\n",
    "import os\n",
    "import sys\n",
    "import json\n",
    "\n",
    "# ➕ Add the src directory to Python path so we can import our modules\n",
    "sys.path.append(os.path.abspath(\"../src\"))\n",
    "\n",
    "# ✅ Import the scrape function from scraper.py inside src/\n",
    "from scraper import scrape_csis_events\n",
    "\n",
    "print(\"✅ Setup complete. Ready to scrape and analyze missile data.\")\n"
   ]
  },
  {
   "cell_type": "code",
   "execution_count": null,
   "id": "f547b26c",
   "metadata": {},
   "outputs": [],
   "source": [
    "# 🚀 Run the scraper to simulate or collect missile threat data\n",
    "scrape_csis_events()  # This will write data to ../data/missile_events.json\n"
   ]
  },
  {
   "cell_type": "code",
   "execution_count": null,
   "id": "c5374095",
   "metadata": {},
   "outputs": [],
   "source": [
    "# 📂 Load the JSON data from the data directory\n",
    "with open(\"../data/missile_events.json\", \"r\") as f:\n",
    "    event_data = json.load(f)\n",
    "\n",
    "# 👀 Show the first few missile events\n",
    "event_data[:3]\n"
   ]
  },
  {
   "cell_type": "code",
   "execution_count": null,
   "id": "1f932a3b",
   "metadata": {},
   "outputs": [],
   "source": [
    "# 🧹 Filter out entries without real coordinates (lat/lon = 0)\n",
    "valid_events = [e for e in event_data if e[\"lat\"] != 0 and e[\"lon\"] != 0]\n",
    "\n",
    "# 🎯 Extract data for plotting\n",
    "names = [e[\"name\"] for e in valid_events]\n",
    "lats = [e[\"lat\"] for e in valid_events]\n",
    "lons = [e[\"lon\"] for e in valid_events]\n",
    "\n",
    "print(f\"✅ Found {len(valid_events)} valid events with coordinates.\")\n"
   ]
  },
  {
   "cell_type": "code",
   "execution_count": null,
   "id": "5def732b",
   "metadata": {},
   "outputs": [],
   "source": [
    "# 🌐 Create a world map using Plotly\n",
    "import plotly.graph_objects as go\n",
    "\n",
    "# Create scatter plot on a geo map\n",
    "fig = go.Figure(go.Scattergeo(\n",
    "    lat=lats,\n",
    "    lon=lons,\n",
    "    text=names,\n",
    "    mode=\"markers+text\",\n",
    "    marker=dict(size=10, color=\"red\", symbol=\"circle\"),\n",
    "    textposition=\"top center\"\n",
    "))\n",
    "\n",
    "# Style the map to look like a radar dashboard\n",
    "fig.update_layout(\n",
    "    geo=dict(\n",
    "        projection_type=\"natural earth\",\n",
    "        showland=True,\n",
    "        landcolor=\"black\",\n",
    "        bgcolor=\"black\"\n",
    "    ),\n",
    "    paper_bgcolor=\"black\",\n",
    "    font_color=\"lime\",\n",
    "    title=\"🛰️ Global Missile Launch Map with Names\"\n",
    ")\n",
    "\n",
    "fig.show()\n"
   ]
  },
  {
   "cell_type": "code",
   "execution_count": null,
   "id": "8f3c1a5e",
   "metadata": {},
   "outputs": [],
   "source": [
    "# 📋 Optional: Display event names with links (if available)\n",
    "from IPython.display import Markdown, display\n",
    "\n",
    "for e in valid_events:\n",
    "    name = e.get(\"name\", \"Unknown\")\n",
    "    lat = e.get(\"lat\", \"N/A\")\n",
    "    lon = e.get(\"lon\", \"N/A\")\n",
    "    link = e.get(\"link\", \"#\")\n",
    "    display(Markdown(f\"• **[{name}]({link})** at coordinates `{lat}, {lon}`\"))\n"
   ]
  }
 ],
 "metadata": {
  "kernelspec": {
   "display_name": "Python 3",
   "language": "python",
   "name": "python3"
  },
  "language_info": {
   "name": "python",
   "version": "3.11"
  }
 },
 "nbformat": 4,
 "nbformat_minor": 5
}
