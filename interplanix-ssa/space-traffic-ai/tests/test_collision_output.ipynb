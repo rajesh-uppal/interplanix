{
 "cells": [
  {
   "cell_type": "markdown",
   "id": "635030d6",
   "metadata": {},
   "source": [
    "# 🧪 Collision Detection Test\n",
    "This notebook tests the `collision_predictor.py` module:\n",
    "- Loads mock satellite position data\n",
    "- Detects collisions\n",
    "- Prints and saves the results"
   ]
  },
  {
   "cell_type": "code",
   "execution_count": 1,
   "id": "c78545ff",
   "metadata": {},
   "outputs": [],
   "source": [
    "import sys, os\n",
    "sys.path.append(os.path.abspath(os.path.join(os.getcwd(), '..')))\n",
    "from src.collision_predictor import detect_collisions\n",
    "from typing import List, Dict\n",
    "import pandas as pd\n",
    "import datetime"
   ]
  },
  {
   "cell_type": "markdown",
   "id": "d6f4a43e",
   "metadata": {},
   "source": [
    "## 🛰️ Mock Satellite Position Data"
   ]
  },
  {
   "cell_type": "code",
   "execution_count": 2,
   "id": "a7f42f49",
   "metadata": {},
   "outputs": [],
   "source": [
    "positions_dict = {\n",
    "    'SAT-1': [(0, 0, 0), (10, 10, 10), (20, 20, 20)],\n",
    "    'SAT-2': [(5, 5, 5), (12, 12, 12), (30, 30, 30)],\n",
    "    'SAT-3': [(100, 100, 100), (101, 101, 101), (102, 102, 102)]\n",
    "}"
   ]
  },
  {
   "cell_type": "markdown",
   "id": "a99c4c33",
   "metadata": {},
   "source": [
    "## 🚨 Detect Collisions"
   ]
  },
  {
   "cell_type": "code",
   "execution_count": 3,
   "id": "a612ef59",
   "metadata": {},
   "outputs": [
    {
     "data": {
      "text/plain": [
       "[{'sat1': 'SAT-1', 'sat2': 'SAT-2', 'time': 0, 'distance_km': 8.66},\n",
       " {'sat1': 'SAT-1', 'sat2': 'SAT-2', 'time': 1, 'distance_km': 3.46}]"
      ]
     },
     "execution_count": 3,
     "metadata": {},
     "output_type": "execute_result"
    }
   ],
   "source": [
    "collisions = detect_collisions(positions_dict, threshold_km=15)\n",
    "collisions"
   ]
  },
  {
   "cell_type": "markdown",
   "id": "d6ad20de",
   "metadata": {},
   "source": [
    "## 📋 Pretty Print Collisions"
   ]
  },
  {
   "cell_type": "code",
   "execution_count": 4,
   "id": "8346c7cd",
   "metadata": {},
   "outputs": [],
   "source": [
    "def print_collisions(collisions: List[Dict]):\n",
    "    if not collisions:\n",
    "        print(\"✅ No potential collisions detected.\")\n",
    "        return\n",
    "    print(\"⚠️ Potential Collisions Detected:\")\n",
    "    print(\"-\" * 50)\n",
    "    for event in collisions:\n",
    "        print(f\"🛰️ {event['sat1']} <--> {event['sat2']}\")\n",
    "        print(f\"   Time Step: {event['time']}\")\n",
    "        print(f\"   Distance: {event['distance_km']} km\")\n",
    "        print(\"-\" * 50)"
   ]
  },
  {
   "cell_type": "code",
   "execution_count": 5,
   "id": "39d63fcc",
   "metadata": {},
   "outputs": [
    {
     "name": "stdout",
     "output_type": "stream",
     "text": [
      "⚠️ Potential Collisions Detected:\n",
      "--------------------------------------------------\n",
      "🛰️ SAT-1 <--> SAT-2\n",
      "   Time Step: 0\n",
      "   Distance: 8.66 km\n",
      "--------------------------------------------------\n",
      "🛰️ SAT-1 <--> SAT-2\n",
      "   Time Step: 1\n",
      "   Distance: 3.46 km\n",
      "--------------------------------------------------\n"
     ]
    }
   ],
   "source": [
    "print_collisions(collisions)"
   ]
  },
  {
   "cell_type": "markdown",
   "id": "4c3b7f7b",
   "metadata": {},
   "source": [
    "## 💾 Export to CSV"
   ]
  },
  {
   "cell_type": "code",
   "execution_count": 6,
   "id": "dcb42e39",
   "metadata": {},
   "outputs": [
    {
     "name": "stdout",
     "output_type": "stream",
     "text": [
      "✅ Collision events saved to: ../data/collision_events_2025-06-29.csv\n"
     ]
    }
   ],
   "source": [
    "if collisions:\n",
    "    df = pd.DataFrame(collisions)\n",
    "    timestamp = datetime.datetime.now().strftime('%Y-%m-%d')\n",
    "    output_path = f\"../data/collision_events_{timestamp}.csv\"\n",
    "    df.to_csv(output_path, index=False)\n",
    "    print(f\"✅ Collision events saved to: {output_path}\")"
   ]
  }
 ],
 "metadata": {
  "kernelspec": {
   "display_name": "interplanix",
   "language": "python",
   "name": "python3"
  },
  "language_info": {
   "codemirror_mode": {
    "name": "ipython",
    "version": 3
   },
   "file_extension": ".py",
   "mimetype": "text/x-python",
   "name": "python",
   "nbconvert_exporter": "python",
   "pygments_lexer": "ipython3",
   "version": "3.12.11"
  }
 },
 "nbformat": 4,
 "nbformat_minor": 5
}
