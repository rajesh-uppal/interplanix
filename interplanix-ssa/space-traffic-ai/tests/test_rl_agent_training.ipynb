{
 "cells": [
  {
   "cell_type": "markdown",
   "id": "977c8183",
   "metadata": {},
   "source": [
    "# 🤖 Train AI Agent to Avoid Collisions"
   ]
  },
  {
   "cell_type": "code",
   "execution_count": 1,
   "id": "b1650628",
   "metadata": {},
   "outputs": [],
   "source": [
    "import sys, os\n",
    "sys.path.append(os.path.abspath(os.path.join(os.getcwd(), '..')))\n",
    "from src.dummy_orbit_env import DummyOrbitalEnv\n",
    "from stable_baselines3 import PPO\n",
    "import matplotlib.pyplot as plt\n",
    "import numpy as np"
   ]
  },
  {
   "cell_type": "code",
   "execution_count": 2,
   "id": "644b36f9",
   "metadata": {},
   "outputs": [],
   "source": [
    "# env = DummyOrbitalEnv()\n",
    "# obs = env.reset()\n",
    "# print('Initial observation:', obs)"
   ]
  },
  {
   "cell_type": "code",
   "execution_count": null,
   "id": "072a360e",
   "metadata": {},
   "outputs": [
    {
     "name": "stdout",
     "output_type": "stream",
     "text": [
      "Using cpu device\n",
      "Wrapping the env with a `Monitor` wrapper\n",
      "Wrapping the env in a DummyVecEnv.\n"
     ]
    },
    {
     "name": "stderr",
     "output_type": "stream",
     "text": [
      "c:\\Users\\DELL\\anaconda3\\envs\\interplanix\\Lib\\site-packages\\stable_baselines3\\common\\vec_env\\patch_gym.py:49: UserWarning: You provided an OpenAI Gym environment. We strongly recommend transitioning to Gymnasium environments. Stable-Baselines3 is automatically wrapping your environments in a compatibility layer, which could potentially cause issues.\n",
      "  warnings.warn(\n"
     ]
    },
    {
     "name": "stdout",
     "output_type": "stream",
     "text": [
      "---------------------------------\n",
      "| rollout/           |          |\n",
      "|    ep_len_mean     | 6.96     |\n",
      "|    ep_rew_mean     | 6.9      |\n",
      "| time/              |          |\n",
      "|    fps             | 364      |\n",
      "|    iterations      | 1        |\n",
      "|    time_elapsed    | 5        |\n",
      "|    total_timesteps | 2048     |\n",
      "---------------------------------\n"
     ]
    },
    {
     "ename": "",
     "evalue": "",
     "output_type": "error",
     "traceback": [
      "\u001b[1;31mThe Kernel crashed while executing code in the current cell or a previous cell. \n",
      "\u001b[1;31mPlease review the code in the cell(s) to identify a possible cause of the failure. \n",
      "\u001b[1;31mClick <a href='https://aka.ms/vscodeJupyterKernelCrash'>here</a> for more info. \n",
      "\u001b[1;31mView Jupyter <a href='command:jupyter.viewOutput'>log</a> for further details."
     ]
    }
   ],
   "source": [
    "from stable_baselines3 import PPO\n",
    "from src.dummy_orbit_env import DummyOrbitalEnv\n",
    "\n",
    "# ✅ 1. Initialize your environment\n",
    "env = DummyOrbitalEnv()\n",
    "\n",
    "# ✅ 2. Create PPO model (verbose=1 to print progress)\n",
    "model = PPO(\"MlpPolicy\", env, verbose=1)\n",
    "\n",
    "# ✅ 3. Learn for a small number of timesteps (5000 is okay, but can reduce)\n",
    "model.learn(total_timesteps=2000)\n",
    "\n",
    "# ✅ 4. Optional: Save only if everything runs smoothly\n",
    "model.save(\"ppo_dummy_orbit\")  # creates ppo_dummy_orbit.zip\n"
   ]
  },
  {
   "cell_type": "code",
   "execution_count": null,
   "id": "ff506786",
   "metadata": {},
   "outputs": [],
   "source": [
    "obs = env.reset()\n",
    "done = False\n",
    "positions = []\n",
    "while not done:\n",
    "    action, _ = model.predict(obs)\n",
    "    obs, reward, done, _ = env.step(action)\n",
    "    dist = np.linalg.norm(obs[:2])\n",
    "    positions.append(dist)\n",
    "plt.plot(positions)\n",
    "plt.title('Distance from Center')\n",
    "plt.axhline(0.05, color='red', linestyle='--')\n",
    "plt.xlabel('Step')\n",
    "plt.ylabel('Distance')\n",
    "plt.grid(True)\n",
    "plt.show()"
   ]
  }
 ],
 "metadata": {
  "kernelspec": {
   "display_name": "interplanix",
   "language": "python",
   "name": "python3"
  },
  "language_info": {
   "codemirror_mode": {
    "name": "ipython",
    "version": 3
   },
   "file_extension": ".py",
   "mimetype": "text/x-python",
   "name": "python",
   "nbconvert_exporter": "python",
   "pygments_lexer": "ipython3",
   "version": "3.12.11"
  }
 },
 "nbformat": 4,
 "nbformat_minor": 5
}
