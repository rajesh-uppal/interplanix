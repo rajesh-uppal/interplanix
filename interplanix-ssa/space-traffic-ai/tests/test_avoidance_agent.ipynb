{
 "cells": [
  {
   "cell_type": "markdown",
   "id": "01f0ca47",
   "metadata": {},
   "source": [
    "# 🛰️ Avoidance Agent Test\n",
    "This notebook:\n",
    "1. Loads simulated satellite data\n",
    "2. Detects collisions\n",
    "3. Applies naive avoidance maneuvers\n",
    "4. Compares positions before and after avoidance\n",
    "5. Saves results for visualization"
   ]
  },
  {
   "cell_type": "code",
   "execution_count": 1,
   "id": "97909a29",
   "metadata": {},
   "outputs": [
    {
     "ename": "ModuleNotFoundError",
     "evalue": "No module named 'gym'",
     "output_type": "error",
     "traceback": [
      "\u001b[31m---------------------------------------------------------------------------\u001b[39m",
      "\u001b[31mModuleNotFoundError\u001b[39m                       Traceback (most recent call last)",
      "\u001b[36mCell\u001b[39m\u001b[36m \u001b[39m\u001b[32mIn[1]\u001b[39m\u001b[32m, line 4\u001b[39m\n\u001b[32m      2\u001b[39m sys.path.append(os.path.abspath(os.path.join(os.getcwd(), \u001b[33m'\u001b[39m\u001b[33m..\u001b[39m\u001b[33m'\u001b[39m)))\n\u001b[32m      3\u001b[39m \u001b[38;5;28;01mfrom\u001b[39;00m\u001b[38;5;250m \u001b[39m\u001b[34;01msrc\u001b[39;00m\u001b[34;01m.\u001b[39;00m\u001b[34;01mcollision_predictor\u001b[39;00m\u001b[38;5;250m \u001b[39m\u001b[38;5;28;01mimport\u001b[39;00m detect_collisions\n\u001b[32m----> \u001b[39m\u001b[32m4\u001b[39m \u001b[38;5;28;01mfrom\u001b[39;00m\u001b[38;5;250m \u001b[39m\u001b[34;01msrc\u001b[39;00m\u001b[34;01m.\u001b[39;00m\u001b[34;01mavoidance_agent\u001b[39;00m\u001b[38;5;250m \u001b[39m\u001b[38;5;28;01mimport\u001b[39;00m apply_naive_avoidance\n\u001b[32m      5\u001b[39m \u001b[38;5;28;01mimport\u001b[39;00m\u001b[38;5;250m \u001b[39m\u001b[34;01mmatplotlib\u001b[39;00m\u001b[34;01m.\u001b[39;00m\u001b[34;01mpyplot\u001b[39;00m\u001b[38;5;250m \u001b[39m\u001b[38;5;28;01mas\u001b[39;00m\u001b[38;5;250m \u001b[39m\u001b[34;01mplt\u001b[39;00m\n\u001b[32m      6\u001b[39m \u001b[38;5;28;01mfrom\u001b[39;00m\u001b[38;5;250m \u001b[39m\u001b[34;01mtyping\u001b[39;00m\u001b[38;5;250m \u001b[39m\u001b[38;5;28;01mimport\u001b[39;00m List, Dict\n",
      "\u001b[36mFile \u001b[39m\u001b[32mc:\\Users\\DELL\\Desktop\\Interplanix\\Git\\interplanix-ssa\\space-traffic-ai\\src\\avoidance_agent.py:1\u001b[39m\n\u001b[32m----> \u001b[39m\u001b[32m1\u001b[39m \u001b[38;5;28;01mimport\u001b[39;00m\u001b[38;5;250m \u001b[39m\u001b[34;01mgym\u001b[39;00m\n\u001b[32m      2\u001b[39m \u001b[38;5;28;01mimport\u001b[39;00m\u001b[38;5;250m \u001b[39m\u001b[34;01mnumpy\u001b[39;00m\u001b[38;5;250m \u001b[39m\u001b[38;5;28;01mas\u001b[39;00m\u001b[38;5;250m \u001b[39m\u001b[34;01mnp\u001b[39;00m\n\u001b[32m      3\u001b[39m \u001b[38;5;28;01mfrom\u001b[39;00m\u001b[38;5;250m \u001b[39m\u001b[34;01mstable_baselines3\u001b[39;00m\u001b[38;5;250m \u001b[39m\u001b[38;5;28;01mimport\u001b[39;00m PPO\n",
      "\u001b[31mModuleNotFoundError\u001b[39m: No module named 'gym'"
     ]
    }
   ],
   "source": [
    "import sys, os\n",
    "sys.path.append(os.path.abspath(os.path.join(os.getcwd(), '..')))\n",
    "from src.collision_predictor import detect_collisions\n",
    "from src.avoidance_agent import apply_naive_avoidance\n",
    "import matplotlib.pyplot as plt\n",
    "from typing import List, Dict\n",
    "import pandas as pd"
   ]
  },
  {
   "cell_type": "markdown",
   "id": "0c9149d3",
   "metadata": {},
   "source": [
    "## 📡 Sample Satellite Positions"
   ]
  },
  {
   "cell_type": "code",
   "execution_count": null,
   "id": "68211dfe",
   "metadata": {},
   "outputs": [],
   "source": [
    "positions_dict = {\n",
    "    'SAT-1': [(0, 0, 0), (10, 10, 10), (20, 20, 20)],\n",
    "    'SAT-2': [(5, 5, 5), (12, 12, 12), (30, 30, 30)],\n",
    "    'SAT-3': [(100, 100, 100), (101, 101, 101), (102, 102, 102)]\n",
    "}"
   ]
  },
  {
   "cell_type": "markdown",
   "id": "377d604d",
   "metadata": {},
   "source": [
    "## 🚨 Detect Collisions"
   ]
  },
  {
   "cell_type": "code",
   "execution_count": null,
   "id": "4799c008",
   "metadata": {},
   "outputs": [],
   "source": [
    "collisions = detect_collisions(positions_dict, threshold_km=15)\n",
    "collisions"
   ]
  },
  {
   "cell_type": "markdown",
   "id": "66f697ae",
   "metadata": {},
   "source": [
    "## 🛑 Apply Naive Avoidance Maneuvers"
   ]
  },
  {
   "cell_type": "code",
   "execution_count": null,
   "id": "4aa6395e",
   "metadata": {},
   "outputs": [],
   "source": [
    "adjusted_positions = apply_naive_avoidance(positions_dict, collisions, delta_km=10)\n",
    "adjusted_positions"
   ]
  },
  {
   "cell_type": "markdown",
   "id": "b84f3c50",
   "metadata": {},
   "source": [
    "## 📊 Compare Before vs After (Z-axis shift)"
   ]
  },
  {
   "cell_type": "code",
   "execution_count": null,
   "id": "cb7aa13c",
   "metadata": {},
   "outputs": [],
   "source": [
    "z_before = [pos[2] for pos in positions_dict['SAT-1']]\n",
    "z_after = [pos[2] for pos in adjusted_positions['SAT-1']]\n",
    "\n",
    "plt.plot(z_before, label='Before Avoidance')\n",
    "plt.plot(z_after, label='After Avoidance')\n",
    "plt.title('Z-axis Shift for SAT-1')\n",
    "plt.xlabel('Timestep')\n",
    "plt.ylabel('Z (km)')\n",
    "plt.legend()\n",
    "plt.grid(True)\n",
    "plt.show()"
   ]
  }
 ],
 "metadata": {
  "kernelspec": {
   "display_name": "interplanix",
   "language": "python",
   "name": "python3"
  },
  "language_info": {
   "codemirror_mode": {
    "name": "ipython",
    "version": 3
   },
   "file_extension": ".py",
   "mimetype": "text/x-python",
   "name": "python",
   "nbconvert_exporter": "python",
   "pygments_lexer": "ipython3",
   "version": "3.12.11"
  }
 },
 "nbformat": 4,
 "nbformat_minor": 5
}
